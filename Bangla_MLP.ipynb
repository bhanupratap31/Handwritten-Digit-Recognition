{
  "nbformat": 4,
  "nbformat_minor": 0,
  "metadata": {
    "colab": {
      "name": "Bangla_MLP",
      "provenance": [],
      "collapsed_sections": [],
      "include_colab_link": true
    },
    "kernelspec": {
      "name": "python3",
      "display_name": "Python 3"
    }
  },
  "cells": [
    {
      "cell_type": "markdown",
      "metadata": {
        "id": "view-in-github",
        "colab_type": "text"
      },
      "source": [
        "<a href=\"https://colab.research.google.com/github/bhanupratap31/Handwritten-Digit-Recognition/blob/master/Bangla_MLP.ipynb\" target=\"_parent\"><img src=\"https://colab.research.google.com/assets/colab-badge.svg\" alt=\"Open In Colab\"/></a>"
      ]
    },
    {
      "cell_type": "code",
      "metadata": {
        "id": "Ga_ixt0ExD_D",
        "colab_type": "code",
        "outputId": "d0e962f9-d03c-47c6-950d-9179d63788e5",
        "colab": {
          "base_uri": "https://localhost:8080/",
          "height": 129
        }
      },
      "source": [
        "# Load the Drive helper and mount\n",
        "from google.colab import drive\n",
        "drive.mount('/content/drive',force_remount=True)\n",
        "# !ls \"/content/drive/My Drive/Colab Notebooks\"\n"
      ],
      "execution_count": 0,
      "outputs": [
        {
          "output_type": "stream",
          "text": [
            "Go to this URL in a browser: https://accounts.google.com/o/oauth2/auth?client_id=947318989803-6bn6qk8qdgf4n4g3pfee6491hc0brc4i.apps.googleusercontent.com&redirect_uri=urn%3aietf%3awg%3aoauth%3a2.0%3aoob&response_type=code&scope=email%20https%3a%2f%2fwww.googleapis.com%2fauth%2fdocs.test%20https%3a%2f%2fwww.googleapis.com%2fauth%2fdrive%20https%3a%2f%2fwww.googleapis.com%2fauth%2fdrive.photos.readonly%20https%3a%2f%2fwww.googleapis.com%2fauth%2fpeopleapi.readonly\n",
            "\n",
            "Enter your authorization code:\n",
            "··········\n",
            "Mounted at /content/drive\n"
          ],
          "name": "stdout"
        }
      ]
    },
    {
      "cell_type": "code",
      "metadata": {
        "id": "st9eDMnZM23_",
        "colab_type": "code",
        "outputId": "d12b87d3-d6ca-4bb0-c63c-e65882e0af86",
        "colab": {
          "base_uri": "https://localhost:8080/",
          "height": 496
        }
      },
      "source": [
        "from matplotlib.image import imread\n",
        "from os import walk\n",
        "import cv2\n",
        "import numpy as np\n",
        "\n",
        "def read_folder(path):\n",
        "    X, Y,  label = [],[],[]\n",
        "    for (dirpath, dirnames, filenames) in walk(path):\n",
        "        label.extend(dirnames)\n",
        "        break\n",
        "    # print(label)\n",
        "    for l in label:\n",
        "        mypath=path+\"/\"+l\n",
        "        files=[]\n",
        "        for (dirpath, dirnames, filenames) in walk(mypath):\n",
        "            files.extend(filenames)\n",
        "            break\n",
        "        print(l,files)\n",
        "        for f in files:\n",
        "            img_path=mypath+\"/\"+f\n",
        "            img = cv2.imread(img_path, 0)\n",
        "            img=(255-img)\n",
        "            img=[el for row in img for el in row]\n",
        "            X.append(img)\n",
        "            Y.append(int(l))\n",
        "    print(len(X),len(Y))\n",
        "    return (X,Y)\n",
        "train_path=\"/content/drive/My Drive/Dataset/Bangla Dataset/Training\"\n",
        "test_path=\"/content/drive/My Drive/Dataset/Bangla Dataset/Testing\"\n",
        "X_train,Y_train=read_folder(train_path)\n",
        "print('------------------------------------------')\n",
        "X_test,Y_test=read_folder(test_path)\n",
        "X_train,Y_train=np.asarray(X_train),np.asarray(Y_train)\n",
        "X_test,Y_test=np.asarray(X_test),np.asarray(Y_test)\n",
        "print(X_train.shape)\n",
        "print(Y_train.shape)"
      ],
      "execution_count": 0,
      "outputs": [
        {
          "output_type": "stream",
          "text": [
            "2 ['10.jpg', '1.jpg', '16.jpg', '14.jpg', '13.jpg', '15.jpg', '11.jpg', '12.jpg', '17.jpg', '18.jpg', '2.jpg', '19.jpg', '21.jpg', '20.jpg', '25.jpg', '26.jpg', '22.jpg', '24.jpg', '23.jpg', '27.jpg', '28.jpg', '29.jpg', '30.jpg', '3.jpg', '36.jpg', '35.jpg', '31.jpg', '32.jpg', '34.jpg', '33.jpg', '37.jpg', '38.jpg', '39.jpg', '4.jpg', '40.jpg', '41.jpg', '43.jpg', '42.jpg', '45.jpg', '44.jpg', '50.jpg', '47.jpg', '48.jpg', '46.jpg', '49.jpg', '5.jpg', '51.jpg', '52.jpg', '54.jpg', '53.jpg', '6.jpg', '57.jpg', '56.jpg', '58.jpg', '59.jpg', '55.jpg', '7.jpg', '60.jpg', '8.jpg', '9.jpg']\n",
            "3 ['10.jpg', '16.jpg', '1.jpg', '15.jpg', '11.jpg', '12.jpg', '14.jpg', '13.jpg', '17.jpg', '18.jpg', '2.jpg', '19.jpg', '21.jpg', '20.jpg', '25.jpg', '24.jpg', '22.jpg', '23.jpg', '26.jpg', '27.jpg', '29.jpg', '28.jpg', '3.jpg', '30.jpg', '35.jpg', '33.jpg', '31.jpg', '32.jpg', '34.jpg', '36.jpg', '38.jpg', '37.jpg', '39.jpg', '4.jpg', '45.jpg', '47.jpg', '40.jpg', '41.jpg', '42.jpg', '44.jpg', '43.jpg', '46.jpg', '48.jpg', '49.jpg', '5.jpg', '56.jpg', '50.jpg', '57.jpg', '58.jpg', '55.jpg', '53.jpg', '54.jpg', '52.jpg', '51.jpg', '59.jpg', '6.jpg', '60.jpg', '7.jpg', '8.jpg', '9.jpg']\n",
            "5 ['10.jpg', '11.jpg', '12.jpg', '1.jpg', '17.jpg', '14.jpg', '16.jpg', '13.jpg', '15.jpg', '18.jpg', '2.jpg', '19.jpg', '20.jpg', '21.jpg', '27.jpg', '24.jpg', '22.jpg', '23.jpg', '25.jpg', '26.jpg', '28.jpg', '29.jpg', '30.jpg', '3.jpg', '32.jpg', '31.jpg', '38.jpg', '37.jpg', '34.jpg', '35.jpg', '33.jpg', '39.jpg', '4.jpg', '40.jpg', '42.jpg', '41.jpg', '48.jpg', '46.jpg', '47.jpg', '43.jpg', '45.jpg', '44.jpg', '49.jpg', '5.jpg', '51.jpg', '50.jpg', '53.jpg', '54.jpg', '56.jpg', '58.jpg', '57.jpg', '55.jpg', '52.jpg', '6.jpg', '60.jpg', '59.jpg', '8.jpg', '7.jpg', '9.jpg']\n",
            "0 ['0.jpg', '1.jpg', '10.jpg', '12.jpg', '11.jpg', '18.jpg', '14.jpg', '16.jpg', '15.jpg', '17.jpg', '13.jpg', '19.jpg', '2.jpg', '20.jpg', '21.jpg', '22.jpg', '23.jpg', '25.jpg', '24.jpg', '26.jpg', '27.jpg', '29.jpg', '28.jpg', '30.jpg', '32.jpg', '35.jpg', '31.jpg', '34.jpg', '33.jpg', '3.jpg', '36.jpg', '38.jpg', '37.jpg', '4.jpg', '39.jpg', '40.jpg', '42.jpg', '44.jpg', '43.jpg', '41.jpg', '45.jpg', '47.jpg', '46.jpg', '49.jpg', '48.jpg', '54.jpg', '50.jpg', '56.jpg', '55.jpg', '51.jpg', '5.jpg', '52.jpg', '53.jpg', '57.jpg', '58.jpg', '6.jpg', '59.jpg', '60.jpg', '9.jpg', '8.jpg', '7.jpg']\n",
            "4 ['12.jpg', '10.jpg', '1.jpg', '11.jpg', '14.jpg', '13.jpg', '15.jpg', '16.jpg', '21.jpg', '23.jpg', '22.jpg', '20.jpg', '17.jpg', '18.jpg', '19.jpg', '2.jpg', '24.jpg', '25.jpg', '30.jpg', '32.jpg', '29.jpg', '3.jpg', '28.jpg', '27.jpg', '26.jpg', '31.jpg', '33.jpg', '34.jpg', '4.jpg', '40.jpg', '41.jpg', '35.jpg', '38.jpg', '36.jpg', '39.jpg', '37.jpg', '42.jpg', '43.jpg', '45.jpg', '50.jpg', '48.jpg', '49.jpg', '5.jpg', '47.jpg', '46.jpg', '51.jpg', '44.jpg', '52.jpg', '54 (1).jpg', '56 (1).jpg', '53.jpg', '55 (1).jpg', '6 (1).jpg', '59 (1).jpg', '57 (1).jpg', '58 (1).jpg', '60 (1).jpg', '54.jpg', '7.jpg', '56.jpg', '55.jpg', '6.jpg', '57.jpg', '59.jpg', '58.jpg', '60.jpg', '8.jpg', '9.jpg']\n",
            "1 ['10.jpg', '1.jpg', '11.jpg', '12.jpg', '14.jpg', '16.jpg', '15.jpg', '13.jpg', '18.jpg', '2.jpg', '20.jpg', '17.jpg', '19.jpg', '21.jpg', '23.jpg', '22.jpg', '25.jpg', '24.jpg', '27.jpg', '28.jpg', '3.jpg', '26.jpg', '29.jpg', '30.jpg', '32.jpg', '31.jpg', '33.jpg', '34.jpg', '38.jpg', '35.jpg', '37.jpg', '39.jpg', '4.jpg', '40.jpg', '42.jpg', '41.jpg', '43.jpg', '44.jpg', '50.jpg', '46.jpg', '49.jpg', '45.jpg', '5.jpg', '48.jpg', '51.jpg', '52.jpg', '54.jpg', '53.jpg', '6.jpg', '59.jpg', '55.jpg', '57.jpg', '58.jpg', '56.jpg', '60.jpg', '7.jpg', '8.jpg', '9.jpg']\n",
            "6 ['11.jpg', '12.jpg', '13.jpg', '15.jpg', '1.jpg', '16.jpg', '14.jpg', '10.jpg', '17.jpg', '19.jpg', '18.jpg', '20.jpg', '2.jpg', '26.jpg', '23.jpg', '24.jpg', '25.jpg', '22.jpg', '21.jpg', '28.jpg', '27.jpg', '29.jpg', '3.jpg', '35.jpg', '38.jpg', '31.jpg', '33.jpg', '32.jpg', '30.jpg', '34.jpg', '37.jpg', '39.jpg', '4.jpg', '41.jpg', '48.jpg', '40.jpg', '43.jpg', '42.jpg', '47.jpg', '44.jpg', '45.jpg', '49.jpg', '5.jpg', '51.jpg', '53.jpg', '50.jpg', '52.jpg', '57.jpg', '55.jpg', '56.jpg', '58.jpg', '54.jpg', '59.jpg', '60.jpg', '6.jpg', '7.jpg', '8.jpg', '9.jpg']\n",
            "7 ['1.jpg', '16.jpg', '11.jpg', '13.jpg', '10.jpg', '14.jpg', '12.jpg', '17.jpg', '18 (1).jpg', '2 (1).jpg', '21 (1).jpg', '20 (1).jpg', '23 (1).jpg', '25 (1).jpg', '24 (1).jpg', '26 (1).jpg', '22 (1).jpg', '18.jpg', '2.jpg', '21.jpg', '26.jpg', '22.jpg', '24.jpg', '23.jpg', '25.jpg', '20.jpg', '19 (1).jpg', '27.jpg', '30.jpg', '19.jpg', '28.jpg', '34.jpg', '35.jpg', '31.jpg', '32.jpg', '33.jpg', '36.jpg', '3.jpg', '37.jpg', '38.jpg', '29.jpg', '4.jpg', '39.jpg', '42.jpg', '41.jpg', '40.jpg', '43.jpg', '46.jpg', '45.jpg', '44.jpg', '47.jpg', '50.jpg', '5.jpg', '48.jpg', '49.jpg', '51.jpg', '52.jpg', '54.jpg', '53.jpg', '55.jpg', '56.jpg', '7.jpg', '9.jpg', '57.jpg', '59.jpg', '58.jpg', '60.jpg', '6.jpg', '8.jpg']\n",
            "9 ['1.jpg', '11.jpg', '13.jpg', '10.jpg', '12.jpg', '16.jpg', '17.jpg', '15.jpg', '18.jpg', '14.jpg', '19.jpg', '20.jpg', '2.jpg', '22.jpg', '27.jpg', '23.jpg', '25.jpg', '24.jpg', '26.jpg', '21.jpg', '28.jpg', '29.jpg', '3.jpg', '31.jpg', '30.jpg', '37.jpg', '32.jpg', '36.jpg', '33.jpg', '35.jpg', '34.jpg', '38.jpg', '39.jpg', '40.jpg', '47.jpg', '4.jpg', '42.jpg', '45.jpg', '46.jpg', '43.jpg', '41.jpg', '48.jpg', '49.jpg', '50.jpg', '52.jpg', '5.jpg', '51.jpg', '55.jpg', '56.jpg', '53.jpg', '57.jpg', '54.jpg', '58.jpg', '6.jpg', '59.jpg', '60.jpg', '7.jpg', '8.jpg', '9.jpg']\n",
            "8 ['1.jpg', '10.jpg', '16.jpg', '19.jpg', '17.jpg', '12.jpg', '15.jpg', '13.jpg', '11.jpg', '14.jpg', '2.jpg', '20.jpg', '22.jpg', '28.jpg', '21.jpg', '29.jpg', '25.jpg', '27.jpg', '23.jpg', '24.jpg', '26.jpg', '3.jpg', '31.jpg', '33.jpg', '30.jpg', '32.jpg', '35.jpg', '38.jpg', '36.jpg', '37.jpg', '34.jpg', '40.jpg', '39.jpg', '41.jpg', '42.jpg', '4.jpg', '48.jpg', '5.jpg', '49.jpg', '50.jpg', '45.jpg', '51.jpg', '53.jpg', '46.jpg', '47.jpg', '43.jpg', '44.jpg', '52.jpg', '54.jpg', '55.jpg', '60.jpg', '8.jpg', '56.jpg', '59.jpg', '6.jpg', '58.jpg', '57.jpg', '7.jpg', '9.jpg']\n",
            "611 611\n",
            "------------------------------------------\n",
            "1 ['61.jpg', '63.jpg', '62.jpg', '65.jpg', '64.jpg', '66.jpg', '68.jpg', '69.jpg', '67.jpg', '70.jpg', '72.jpg', '71.jpg', '73.jpg', '79.jpg', '78.jpg', '76.jpg', '75.jpg', '77.jpg', '74.jpg', '80.jpg']\n",
            "6 ['61.jpg', '62.jpg', '63.jpg', '69.jpg', '70.jpg', '71.jpg', '68.jpg', '64.jpg', '67.jpg', '65.jpg', '66.jpg', '72.jpg', '73.jpg', '74.jpg', '75.jpg', '77.jpg', '76.jpg', '79.jpg', '80.jpg', '78.jpg']\n",
            "7 ['61.jpg', '62.jpg', '63.jpg', '65.jpg', '64.jpg', '67.jpg', '66.jpg', '73.jpg', '69.jpg', '68.jpg', '71.jpg', '72.jpg', '70.jpg', '74.jpg', '75.jpg', '77.jpg', '76.jpg', '80.jpg', '78.jpg', '79.jpg']\n",
            "4 ['62.jpg', '61.jpg', '71.jpg', '63.jpg', '65.jpg', '72.jpg', '64.jpg', '66.jpg', '69.jpg', '67.jpg', '70.jpg', '68.jpg', '73.jpg', '75.jpg', '77.jpg', '74.jpg', '76.jpg', '78.jpg', '79.jpg', '80.jpg']\n",
            "5 ['61.jpg', '62.jpg', '63.jpg', '65.jpg', '66.jpg', '67.jpg', '69.jpg', '72.jpg', '70.jpg', '71.jpg', '68.jpg', '73.jpg', '74.jpg', '75.jpg', '77.jpg', '78.jpg', '80.jpg', '79.jpg', '76.jpg', '64.jpg']\n",
            "2 ['61.jpg', '62.jpg', '63.jpg', '69.jpg', '71.jpg', '64.jpg', '67.jpg', '66.jpg', '65.jpg', '68.jpg', '70.jpg', '72.jpg', '73.jpg', '75.jpg', '77.jpg', '74.jpg', '76.jpg', '80.jpg', '78.jpg', '79.jpg']\n",
            "3 ['62.jpg', '61.jpg', '63.jpg', '65.jpg', '67.jpg', '64.jpg', '66.jpg', '71.jpg', '68.jpg', '70.jpg', '69.jpg', '72.jpg', '73.jpg', '75.jpg', '77.jpg', '74.jpg', '80.jpg', '79.jpg', '78.jpg', '76.jpg']\n",
            "0 ['61.jpg', '67.jpg', '69.jpg', '64.jpg', '66.jpg', '65.jpg', '63.jpg', '62.jpg', '68.jpg', '70.jpg', '71.jpg', '73.jpg', '79.jpg', '72.jpg', '80.jpg', '74.jpg', '78.jpg', '77.jpg', '76.jpg', '75.jpg']\n",
            "8 ['63.jpg', '61.jpg', '62.jpg', '65.jpg', '64.jpg', '66.jpg', '67.jpg', '69.jpg', '75.jpg', '68.jpg', '72.jpg', '70.jpg', '73.jpg', '74.jpg', '71.jpg', '76.jpg', '77.jpg', '78.jpg', '79.jpg', '80.jpg']\n",
            "9 ['65.jpg', '64.jpg', '61.jpg', '62.jpg', '63.jpg', '67.jpg', '66.jpg', '68.jpg', '69.jpg', '75.jpg', '72.jpg', '74.jpg', '70.jpg', '73.jpg', '71.jpg', '77.jpg', '76.jpg', '78.jpg', '79.jpg', '80.jpg']\n",
            "200 200\n",
            "(611, 10000)\n",
            "(611,)\n"
          ],
          "name": "stdout"
        }
      ]
    },
    {
      "cell_type": "code",
      "metadata": {
        "id": "OgcEekHAvgS7",
        "colab_type": "code",
        "outputId": "4af9692d-66bf-449b-8ac6-8baeeb6a2aff",
        "colab": {
          "base_uri": "https://localhost:8080/",
          "height": 1000
        }
      },
      "source": [
        "from __future__ import print_function\n",
        "\n",
        "import keras\n",
        "from tensorflow.keras.datasets import mnist\n",
        "from tensorflow.keras.models import Sequential\n",
        "from tensorflow.keras.layers import Dense, Dropout\n",
        "from tensorflow.keras.optimizers import RMSprop\n",
        "\n",
        "batch_size = 32\n",
        "num_classes = 10\n",
        "epochs = 20\n",
        "\n",
        "\n",
        "X_train = X_train.reshape(611, 10000)\n",
        "X_test = X_test.reshape(200, 10000)\n",
        "X_train = X_train.astype('float32')\n",
        "X_test = X_test.astype('float32')\n",
        "X_train /= 255\n",
        "X_test /= 255\n",
        "print(X_train.shape[0], 'train samples')\n",
        "print(X_test.shape[0], 'test samples')\n",
        "\n",
        "# convert class vectors to binary class matrices\n",
        "Y_train = keras.utils.to_categorical(Y_train, num_classes)\n",
        "Y_test = keras.utils.to_categorical(Y_test, num_classes)\n",
        "\n",
        "model = Sequential()\n",
        "model.add(Dense(128, activation='relu', input_shape=(10000,)))\n",
        "#model.add(Dense(512, activation='relu'))\n",
        "model.add(Dense(num_classes, activation='softmax'))\n",
        "\n",
        "model.summary()\n",
        "\n",
        "model.compile(loss='categorical_crossentropy',\n",
        "              optimizer='sgd',\n",
        "              metrics=['accuracy'])\n",
        "\n",
        "history = model.fit(X_train, Y_train,\n",
        "                    batch_size=batch_size,\n",
        "                    epochs=epochs,\n",
        "                    verbose=1,\n",
        "                    validation_data=(X_test, Y_test))\n",
        "score = model.evaluate(X_test, Y_test, verbose=0)\n",
        "print('Test loss:', score[0])\n",
        "print('Test accuracy:', score[1])\n"
      ],
      "execution_count": 0,
      "outputs": [
        {
          "output_type": "stream",
          "text": [
            "Using TensorFlow backend.\n"
          ],
          "name": "stderr"
        },
        {
          "output_type": "stream",
          "text": [
            "611 train samples\n",
            "200 test samples\n",
            "Model: \"sequential\"\n",
            "_________________________________________________________________\n",
            "Layer (type)                 Output Shape              Param #   \n",
            "=================================================================\n",
            "dense (Dense)                (None, 128)               1280128   \n",
            "_________________________________________________________________\n",
            "dense_1 (Dense)              (None, 10)                1290      \n",
            "=================================================================\n",
            "Total params: 1,281,418\n",
            "Trainable params: 1,281,418\n",
            "Non-trainable params: 0\n",
            "_________________________________________________________________\n",
            "Epoch 1/20\n",
            "20/20 [==============================] - 0s 17ms/step - loss: 2.1198 - accuracy: 0.2815 - val_loss: 1.9915 - val_accuracy: 0.3700\n",
            "Epoch 2/20\n",
            "20/20 [==============================] - 0s 9ms/step - loss: 1.5508 - accuracy: 0.7054 - val_loss: 1.6456 - val_accuracy: 0.5600\n",
            "Epoch 3/20\n",
            "20/20 [==============================] - 0s 9ms/step - loss: 1.0947 - accuracy: 0.8445 - val_loss: 1.3588 - val_accuracy: 0.6600\n",
            "Epoch 4/20\n",
            "20/20 [==============================] - 0s 9ms/step - loss: 0.8234 - accuracy: 0.9067 - val_loss: 1.1671 - val_accuracy: 0.7300\n",
            "Epoch 5/20\n",
            "20/20 [==============================] - 0s 9ms/step - loss: 0.6259 - accuracy: 0.9313 - val_loss: 1.0517 - val_accuracy: 0.7550\n",
            "Epoch 6/20\n",
            "20/20 [==============================] - 0s 10ms/step - loss: 0.5360 - accuracy: 0.9493 - val_loss: 0.9685 - val_accuracy: 0.7600\n",
            "Epoch 7/20\n",
            "20/20 [==============================] - 0s 10ms/step - loss: 0.4013 - accuracy: 0.9656 - val_loss: 0.9014 - val_accuracy: 0.7750\n",
            "Epoch 8/20\n",
            "20/20 [==============================] - 0s 9ms/step - loss: 0.3325 - accuracy: 0.9771 - val_loss: 0.8616 - val_accuracy: 0.7750\n",
            "Epoch 9/20\n",
            "20/20 [==============================] - 0s 9ms/step - loss: 0.2851 - accuracy: 0.9820 - val_loss: 0.8379 - val_accuracy: 0.7850\n",
            "Epoch 10/20\n",
            "20/20 [==============================] - 0s 10ms/step - loss: 0.2605 - accuracy: 0.9869 - val_loss: 0.8139 - val_accuracy: 0.7900\n",
            "Epoch 11/20\n",
            "20/20 [==============================] - 0s 10ms/step - loss: 0.2169 - accuracy: 0.9918 - val_loss: 0.7779 - val_accuracy: 0.7900\n",
            "Epoch 12/20\n",
            "20/20 [==============================] - 0s 9ms/step - loss: 0.1860 - accuracy: 0.9951 - val_loss: 0.7646 - val_accuracy: 0.7650\n",
            "Epoch 13/20\n",
            "20/20 [==============================] - 0s 10ms/step - loss: 0.1649 - accuracy: 0.9967 - val_loss: 0.7529 - val_accuracy: 0.7700\n",
            "Epoch 14/20\n",
            "20/20 [==============================] - 0s 9ms/step - loss: 0.1495 - accuracy: 0.9984 - val_loss: 0.7428 - val_accuracy: 0.7800\n",
            "Epoch 15/20\n",
            "20/20 [==============================] - 0s 10ms/step - loss: 0.1462 - accuracy: 0.9984 - val_loss: 0.7243 - val_accuracy: 0.7800\n",
            "Epoch 16/20\n",
            "20/20 [==============================] - 0s 9ms/step - loss: 0.1257 - accuracy: 1.0000 - val_loss: 0.7169 - val_accuracy: 0.7850\n",
            "Epoch 17/20\n",
            "20/20 [==============================] - 0s 10ms/step - loss: 0.1125 - accuracy: 1.0000 - val_loss: 0.7097 - val_accuracy: 0.7900\n",
            "Epoch 18/20\n",
            "20/20 [==============================] - 0s 10ms/step - loss: 0.1018 - accuracy: 1.0000 - val_loss: 0.7025 - val_accuracy: 0.8000\n",
            "Epoch 19/20\n",
            "20/20 [==============================] - 0s 9ms/step - loss: 0.0943 - accuracy: 1.0000 - val_loss: 0.6952 - val_accuracy: 0.7850\n",
            "Epoch 20/20\n",
            "20/20 [==============================] - 0s 10ms/step - loss: 0.0882 - accuracy: 1.0000 - val_loss: 0.6905 - val_accuracy: 0.7850\n",
            "Test loss: 0.690485954284668\n",
            "Test accuracy: 0.7850000262260437\n"
          ],
          "name": "stdout"
        }
      ]
    }
  ]
}