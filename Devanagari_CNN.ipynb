{
  "nbformat": 4,
  "nbformat_minor": 0,
  "metadata": {
    "colab": {
      "name": "Devanagari_CNN",
      "provenance": [],
      "collapsed_sections": [],
      "include_colab_link": true
    },
    "kernelspec": {
      "name": "python3",
      "display_name": "Python 3"
    },
    "accelerator": "GPU"
  },
  "cells": [
    {
      "cell_type": "markdown",
      "metadata": {
        "id": "view-in-github",
        "colab_type": "text"
      },
      "source": [
        "<a href=\"https://colab.research.google.com/github/bhanupratap31/Handwritten-Digit-Recognition/blob/master/Devanagari_CNN.ipynb\" target=\"_parent\"><img src=\"https://colab.research.google.com/assets/colab-badge.svg\" alt=\"Open In Colab\"/></a>"
      ]
    },
    {
      "cell_type": "code",
      "metadata": {
        "id": "5UuyZmUiMoYT",
        "colab_type": "code",
        "colab": {}
      },
      "source": [
        "# Load the Drive helper and mount?\n",
        "from google.colab import drive\n",
        "drive.mount('/content/drive',force_remount=True)\n",
        "# !ls \"/content/drive/My Drive/Colab Notebooks\"\n",
        "\n"
      ],
      "execution_count": 0,
      "outputs": []
    },
    {
      "cell_type": "code",
      "metadata": {
        "id": "broiSGXlMzup",
        "colab_type": "code",
        "outputId": "de06ce81-27b5-4ed8-a32f-99f6ad84aef1",
        "colab": {
          "base_uri": "https://localhost:8080/",
          "height": 35
        }
      },
      "source": [
        "from numpy import genfromtxt\n",
        "from sklearn.model_selection import train_test_split\n",
        "\n",
        "Features_path=\"/content/drive/My Drive/Dataset/Devnagri Dataset/new data.csv\"\n",
        "Labels_path=\"/content/drive/My Drive/Dataset/Devnagri Dataset/new lab.csv\"\n",
        "\n",
        "\n",
        "Features = genfromtxt(Features_path, delimiter=',')\n",
        "Labels = genfromtxt(Labels_path, delimiter=',')\n",
        "\n",
        "X_train, X_test, Y_train, Y_test = train_test_split(Features,Labels, test_size = 0.3, random_state = 2)\n",
        "\n",
        "print(X_train.shape,X_test.shape)\n",
        "\n"
      ],
      "execution_count": 0,
      "outputs": [
        {
          "output_type": "stream",
          "text": [
            "(70, 1024) (30, 1024)\n"
          ],
          "name": "stdout"
        }
      ]
    },
    {
      "cell_type": "code",
      "metadata": {
        "id": "k_EZ7mUyFxG8",
        "colab_type": "code",
        "outputId": "f32de36d-7fc7-4683-89d8-d36a081dd8c9",
        "colab": {
          "base_uri": "https://localhost:8080/",
          "height": 660
        }
      },
      "source": [
        "\n",
        "import keras\n",
        "keras.__version__\n",
        "\n",
        "from tensorflow.keras import layers\n",
        "from tensorflow.keras import models\n",
        "from keras.datasets import mnist\n",
        "from keras.utils import to_categorical\n",
        "\n",
        "# (X_train, Y_train), (X_test, Y_test) = mnist.load_data()\n",
        "\n",
        "print (X_train.shape)\n",
        "X_train = X_train.reshape((70, 32, 32, 1))\n",
        "X_train = X_train.astype('float32') / 255\n",
        "\n",
        "X_test = X_test.reshape((30, 32, 32, 1))\n",
        "X_test = X_test.astype('float32') / 255\n",
        "\n",
        "Y_train = to_categorical(Y_train)\n",
        "Y_test = to_categorical(Y_test)\n",
        "\n",
        "\n",
        "model = models.Sequential()\n",
        "model.add(layers.Conv2D(32, (3, 3), activation='relu', input_shape=(32, 32, 1)))\n",
        "model.add(layers.MaxPooling2D((2, 2)))\n",
        "model.add(layers.Conv2D(64, (3, 3), activation='relu'))\n",
        "model.add(layers.MaxPooling2D((2, 2)))\n",
        "model.add(layers.Flatten())\n",
        "model.add(layers.Dense(128, activation='softmax'))\n",
        "model.summary()\n",
        "\n",
        "\n",
        "batch_size = 10\n",
        "epochs = 10\n",
        "\n",
        "model.compile(loss='categorical_crossentropy',\n",
        "              optimizer='sgd',\n",
        "              metrics=['accuracy'])\n",
        "\n",
        "print(\"-----------------------------------\")\n",
        "model.fit(X_train, Y_train,\n",
        "          batch_size=batch_size,\n",
        "          epochs=epochs,\n",
        "          verbose=1\n",
        "          )\n",
        "\n",
        "test_loss, test_acc = model.evaluate(X_test, Y_test)\n",
        "\n",
        "print('Test loss:', test_loss)\n",
        "print('Test accuracy:', test_acc)\n",
        "\n",
        "\n"
      ],
      "execution_count": 0,
      "outputs": [
        {
          "output_type": "stream",
          "text": [
            "(70, 1024)\n",
            "Model: \"sequential\"\n",
            "_________________________________________________________________\n",
            "Layer (type)                 Output Shape              Param #   \n",
            "=================================================================\n",
            "conv2d (Conv2D)              (None, 28, 28, 32)        832       \n",
            "_________________________________________________________________\n",
            "max_pooling2d (MaxPooling2D) (None, 14, 14, 32)        0         \n",
            "_________________________________________________________________\n",
            "conv2d_1 (Conv2D)            (None, 10, 10, 64)        51264     \n",
            "_________________________________________________________________\n",
            "max_pooling2d_1 (MaxPooling2 (None, 5, 5, 64)          0         \n",
            "_________________________________________________________________\n",
            "flatten (Flatten)            (None, 1600)              0         \n",
            "_________________________________________________________________\n",
            "dense (Dense)                (None, 10)                16010     \n",
            "=================================================================\n",
            "Total params: 68,106\n",
            "Trainable params: 68,106\n",
            "Non-trainable params: 0\n",
            "_________________________________________________________________\n",
            "-----------------------------------\n",
            "Epoch 1/5\n",
            "7/7 [==============================] - 0s 3ms/step - loss: 2.3061 - accuracy: 0.2000\n",
            "Epoch 2/5\n",
            "7/7 [==============================] - 0s 2ms/step - loss: 2.2555 - accuracy: 0.3000\n",
            "Epoch 3/5\n",
            "7/7 [==============================] - 0s 2ms/step - loss: 2.2044 - accuracy: 0.3714\n",
            "Epoch 4/5\n",
            "7/7 [==============================] - 0s 2ms/step - loss: 2.1428 - accuracy: 0.4571\n",
            "Epoch 5/5\n",
            "7/7 [==============================] - 0s 2ms/step - loss: 2.0718 - accuracy: 0.6000\n",
            "1/1 [==============================] - 0s 1ms/step - loss: 2.1014 - accuracy: 0.5000\n",
            "Test loss: 2.1013989448547363\n",
            "Test accuracy: 0.5\n"
          ],
          "name": "stdout"
        }
      ]
    }
  ]
}