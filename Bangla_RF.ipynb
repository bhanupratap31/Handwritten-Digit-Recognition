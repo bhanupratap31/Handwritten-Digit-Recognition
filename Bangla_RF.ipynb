{
  "nbformat": 4,
  "nbformat_minor": 0,
  "metadata": {
    "colab": {
      "name": "Bangla_RF",
      "provenance": [],
      "collapsed_sections": [],
      "include_colab_link": true
    },
    "kernelspec": {
      "name": "python3",
      "display_name": "Python 3"
    },
    "accelerator": "GPU"
  },
  "cells": [
    {
      "cell_type": "markdown",
      "metadata": {
        "id": "view-in-github",
        "colab_type": "text"
      },
      "source": [
        "<a href=\"https://colab.research.google.com/github/bhanupratap31/Handwritten-Digit-Recognition/blob/master/Bangla_RF.ipynb\" target=\"_parent\"><img src=\"https://colab.research.google.com/assets/colab-badge.svg\" alt=\"Open In Colab\"/></a>"
      ]
    },
    {
      "cell_type": "code",
      "metadata": {
        "id": "E-uZ7j0hMjf8",
        "colab_type": "code",
        "outputId": "337eafaa-3df1-4162-eed1-936175e85ecb",
        "colab": {
          "base_uri": "https://localhost:8080/",
          "height": 123
        }
      },
      "source": [
        "\n",
        "# Load the Drive helper and mount\n",
        "from google.colab import drive\n",
        "drive.mount('/content/drive')\n",
        "# !ls \"/content/drive/My Drive/Colab Notebooks\"\n"
      ],
      "execution_count": 0,
      "outputs": [
        {
          "output_type": "stream",
          "text": [
            "Go to this URL in a browser: https://accounts.google.com/o/oauth2/auth?client_id=947318989803-6bn6qk8qdgf4n4g3pfee6491hc0brc4i.apps.googleusercontent.com&redirect_uri=urn%3aietf%3awg%3aoauth%3a2.0%3aoob&response_type=code&scope=email%20https%3a%2f%2fwww.googleapis.com%2fauth%2fdocs.test%20https%3a%2f%2fwww.googleapis.com%2fauth%2fdrive%20https%3a%2f%2fwww.googleapis.com%2fauth%2fdrive.photos.readonly%20https%3a%2f%2fwww.googleapis.com%2fauth%2fpeopleapi.readonly\n",
            "\n",
            "Enter your authorization code:\n",
            "··········\n",
            "Mounted at /content/drive\n"
          ],
          "name": "stdout"
        }
      ]
    },
    {
      "cell_type": "code",
      "metadata": {
        "id": "XicfE17UM14K",
        "colab_type": "code",
        "outputId": "03396240-5492-4fd9-c06d-3a9671c01ae2",
        "colab": {
          "base_uri": "https://localhost:8080/",
          "height": 448
        }
      },
      "source": [
        "from matplotlib.image import imread\n",
        "from os import walk\n",
        "import cv2\n",
        "import numpy as np\n",
        "\n",
        "def read_folder(path):\n",
        "    X, Y,  label = [],[],[]\n",
        "    for (dirpath, dirnames, filenames) in walk(path):\n",
        "        label.extend(dirnames)\n",
        "        break\n",
        "    # print(label)\n",
        "    for l in label:\n",
        "        mypath=path+\"/\"+l\n",
        "        files=[]\n",
        "        for (dirpath, dirnames, filenames) in walk(mypath):\n",
        "            files.extend(filenames)\n",
        "            break\n",
        "        print(l,files)\n",
        "        for f in files:\n",
        "            img_path=mypath+\"/\"+f\n",
        "            img = cv2.imread(img_path, 0)\n",
        "            img=[el for row in img for el in row]\n",
        "            X.append(img)\n",
        "            Y.append(int(l))\n",
        "    print(len(X),len(Y))\n",
        "    return (X,Y)\n",
        "train_path=\"/content/drive/My Drive/Dataset/Bangla Dataset/Training\"\n",
        "test_path=\"/content/drive/My Drive/Dataset/Bangla Dataset/Testing\"\n",
        "X_train,Y_train=read_folder(train_path)\n",
        "print('------------------------------------------')\n",
        "X_test,Y_test=read_folder(test_path)\n",
        "X_train,Y_train=np.asarray(X_train),np.asarray(Y_train)\n",
        "X_test,Y_test=np.asarray(X_test),np.asarray(Y_test)\n",
        "print(X_train.shape)"
      ],
      "execution_count": 0,
      "outputs": [
        {
          "output_type": "stream",
          "text": [
            "2 ['10.jpg', '1.jpg', '16.jpg', '14.jpg', '13.jpg', '15.jpg', '11.jpg', '12.jpg', '17.jpg', '18.jpg', '2.jpg', '19.jpg', '21.jpg', '20.jpg', '25.jpg', '26.jpg', '22.jpg', '24.jpg', '23.jpg', '27.jpg', '28.jpg', '29.jpg', '30.jpg', '3.jpg', '36.jpg', '35.jpg', '31.jpg', '32.jpg', '34.jpg', '33.jpg', '37.jpg', '38.jpg', '39.jpg', '4.jpg', '40.jpg', '41.jpg', '43.jpg', '42.jpg', '45.jpg', '44.jpg', '50.jpg', '47.jpg', '48.jpg', '46.jpg', '49.jpg', '5.jpg', '51.jpg', '52.jpg', '54.jpg', '53.jpg', '6.jpg', '57.jpg', '56.jpg', '58.jpg', '59.jpg', '55.jpg', '7.jpg', '60.jpg', '8.jpg', '9.jpg']\n",
            "3 ['10.jpg', '16.jpg', '1.jpg', '15.jpg', '11.jpg', '12.jpg', '14.jpg', '13.jpg', '17.jpg', '18.jpg', '2.jpg', '19.jpg', '21.jpg', '20.jpg', '25.jpg', '24.jpg', '22.jpg', '23.jpg', '26.jpg', '27.jpg', '29.jpg', '28.jpg', '3.jpg', '30.jpg', '35.jpg', '33.jpg', '31.jpg', '32.jpg', '34.jpg', '36.jpg', '38.jpg', '37.jpg', '39.jpg', '4.jpg', '45.jpg', '47.jpg', '40.jpg', '41.jpg', '42.jpg', '44.jpg', '43.jpg', '46.jpg', '48.jpg', '49.jpg', '5.jpg', '56.jpg', '50.jpg', '57.jpg', '58.jpg', '55.jpg', '53.jpg', '54.jpg', '52.jpg', '51.jpg', '59.jpg', '6.jpg', '60.jpg', '7.jpg', '8.jpg', '9.jpg']\n",
            "5 ['10.jpg', '11.jpg', '12.jpg', '1.jpg', '17.jpg', '14.jpg', '16.jpg', '13.jpg', '15.jpg', '18.jpg', '2.jpg', '19.jpg', '20.jpg', '21.jpg', '27.jpg', '24.jpg', '22.jpg', '23.jpg', '25.jpg', '26.jpg', '28.jpg', '29.jpg', '30.jpg', '3.jpg', '32.jpg', '31.jpg', '38.jpg', '37.jpg', '34.jpg', '35.jpg', '33.jpg', '39.jpg', '4.jpg', '40.jpg', '42.jpg', '41.jpg', '48.jpg', '46.jpg', '47.jpg', '43.jpg', '45.jpg', '44.jpg', '49.jpg', '5.jpg', '51.jpg', '50.jpg', '53.jpg', '54.jpg', '56.jpg', '58.jpg', '57.jpg', '55.jpg', '52.jpg', '6.jpg', '60.jpg', '59.jpg', '8.jpg', '7.jpg', '9.jpg']\n",
            "0 ['0.jpg', '1.jpg', '10.jpg', '12.jpg', '11.jpg', '18.jpg', '14.jpg', '16.jpg', '15.jpg', '17.jpg', '13.jpg', '19.jpg', '2.jpg', '20.jpg', '21.jpg', '22.jpg', '23.jpg', '25.jpg', '24.jpg', '26.jpg', '27.jpg', '29.jpg', '28.jpg', '30.jpg', '32.jpg', '35.jpg', '31.jpg', '34.jpg', '33.jpg', '3.jpg', '36.jpg', '38.jpg', '37.jpg', '4.jpg', '39.jpg', '40.jpg', '42.jpg', '44.jpg', '43.jpg', '41.jpg', '45.jpg', '47.jpg', '46.jpg', '49.jpg', '48.jpg', '54.jpg', '50.jpg', '56.jpg', '55.jpg', '51.jpg', '5.jpg', '52.jpg', '53.jpg', '57.jpg', '58.jpg', '6.jpg', '59.jpg', '60.jpg', '9.jpg', '8.jpg', '7.jpg']\n",
            "4 ['12.jpg', '10.jpg', '1.jpg', '11.jpg', '14.jpg', '13.jpg', '15.jpg', '16.jpg', '21.jpg', '23.jpg', '22.jpg', '20.jpg', '17.jpg', '18.jpg', '19.jpg', '2.jpg', '24.jpg', '25.jpg', '30.jpg', '32.jpg', '29.jpg', '3.jpg', '28.jpg', '27.jpg', '26.jpg', '31.jpg', '33.jpg', '34.jpg', '4.jpg', '40.jpg', '41.jpg', '35.jpg', '38.jpg', '36.jpg', '39.jpg', '37.jpg', '42.jpg', '43.jpg', '45.jpg', '50.jpg', '48.jpg', '49.jpg', '5.jpg', '47.jpg', '46.jpg', '51.jpg', '44.jpg', '52.jpg', '54 (1).jpg', '56 (1).jpg', '53.jpg', '55 (1).jpg', '6 (1).jpg', '59 (1).jpg', '57 (1).jpg', '58 (1).jpg', '60 (1).jpg', '54.jpg', '7.jpg', '56.jpg', '55.jpg', '6.jpg', '57.jpg', '59.jpg', '58.jpg', '60.jpg', '8.jpg', '9.jpg']\n",
            "1 ['10.jpg', '1.jpg', '11.jpg', '12.jpg', '14.jpg', '16.jpg', '15.jpg', '13.jpg', '18.jpg', '2.jpg', '20.jpg', '17.jpg', '19.jpg', '21.jpg', '23.jpg', '22.jpg', '25.jpg', '24.jpg', '27.jpg', '28.jpg', '3.jpg', '26.jpg', '29.jpg', '30.jpg', '32.jpg', '31.jpg', '33.jpg', '34.jpg', '38.jpg', '35.jpg', '37.jpg', '39.jpg', '4.jpg', '40.jpg', '42.jpg', '41.jpg', '43.jpg', '44.jpg', '50.jpg', '46.jpg', '49.jpg', '45.jpg', '5.jpg', '48.jpg', '51.jpg', '52.jpg', '54.jpg', '53.jpg', '6.jpg', '59.jpg', '55.jpg', '57.jpg', '58.jpg', '56.jpg', '60.jpg', '7.jpg', '8.jpg', '9.jpg']\n",
            "6 ['11.jpg', '12.jpg', '13.jpg', '15.jpg', '1.jpg', '16.jpg', '14.jpg', '10.jpg', '17.jpg', '19.jpg', '18.jpg', '20.jpg', '2.jpg', '26.jpg', '23.jpg', '24.jpg', '25.jpg', '22.jpg', '21.jpg', '28.jpg', '27.jpg', '29.jpg', '3.jpg', '35.jpg', '38.jpg', '31.jpg', '33.jpg', '32.jpg', '30.jpg', '34.jpg', '37.jpg', '39.jpg', '4.jpg', '41.jpg', '48.jpg', '40.jpg', '43.jpg', '42.jpg', '47.jpg', '44.jpg', '45.jpg', '49.jpg', '5.jpg', '51.jpg', '53.jpg', '50.jpg', '52.jpg', '57.jpg', '55.jpg', '56.jpg', '58.jpg', '54.jpg', '59.jpg', '60.jpg', '6.jpg', '7.jpg', '8.jpg', '9.jpg']\n",
            "7 ['1.jpg', '16.jpg', '11.jpg', '13.jpg', '10.jpg', '14.jpg', '12.jpg', '17.jpg', '18 (1).jpg', '2 (1).jpg', '21 (1).jpg', '20 (1).jpg', '23 (1).jpg', '25 (1).jpg', '24 (1).jpg', '26 (1).jpg', '22 (1).jpg', '18.jpg', '2.jpg', '21.jpg', '26.jpg', '22.jpg', '24.jpg', '23.jpg', '25.jpg', '20.jpg', '19 (1).jpg', '27.jpg', '30.jpg', '19.jpg', '28.jpg', '34.jpg', '35.jpg', '31.jpg', '32.jpg', '33.jpg', '36.jpg', '3.jpg', '37.jpg', '38.jpg', '29.jpg', '4.jpg', '39.jpg', '42.jpg', '41.jpg', '40.jpg', '43.jpg', '46.jpg', '45.jpg', '44.jpg', '47.jpg', '50.jpg', '5.jpg', '48.jpg', '49.jpg', '51.jpg', '52.jpg', '54.jpg', '53.jpg', '55.jpg', '56.jpg', '7.jpg', '9.jpg', '57.jpg', '59.jpg', '58.jpg', '60.jpg', '6.jpg', '8.jpg']\n",
            "9 ['1.jpg', '11.jpg', '13.jpg', '10.jpg', '12.jpg', '16.jpg', '17.jpg', '15.jpg', '18.jpg', '14.jpg', '19.jpg', '20.jpg', '2.jpg', '22.jpg', '27.jpg', '23.jpg', '25.jpg', '24.jpg', '26.jpg', '21.jpg', '28.jpg', '29.jpg', '3.jpg', '31.jpg', '30.jpg', '37.jpg', '32.jpg', '36.jpg', '33.jpg', '35.jpg', '34.jpg', '38.jpg', '39.jpg', '40.jpg', '47.jpg', '4.jpg', '42.jpg', '45.jpg', '46.jpg', '43.jpg', '41.jpg', '48.jpg', '49.jpg', '50.jpg', '52.jpg', '5.jpg', '51.jpg', '55.jpg', '56.jpg', '53.jpg', '57.jpg', '54.jpg', '58.jpg', '6.jpg', '59.jpg', '60.jpg', '7.jpg', '8.jpg', '9.jpg']\n",
            "8 ['1.jpg', '10.jpg', '16.jpg', '19.jpg', '17.jpg', '12.jpg', '15.jpg', '13.jpg', '11.jpg', '14.jpg', '2.jpg', '20.jpg', '22.jpg', '28.jpg', '21.jpg', '29.jpg', '25.jpg', '27.jpg', '23.jpg', '24.jpg', '26.jpg', '3.jpg', '31.jpg', '33.jpg', '30.jpg', '32.jpg', '35.jpg', '38.jpg', '36.jpg', '37.jpg', '34.jpg', '40.jpg', '39.jpg', '41.jpg', '42.jpg', '4.jpg', '48.jpg', '5.jpg', '49.jpg', '50.jpg', '45.jpg', '51.jpg', '53.jpg', '46.jpg', '47.jpg', '43.jpg', '44.jpg', '52.jpg', '54.jpg', '55.jpg', '60.jpg', '8.jpg', '56.jpg', '59.jpg', '6.jpg', '58.jpg', '57.jpg', '7.jpg', '9.jpg']\n",
            "611 611\n",
            "------------------------------------------\n",
            "1 ['61.jpg', '63.jpg', '62.jpg', '65.jpg', '64.jpg', '66.jpg', '68.jpg', '69.jpg', '67.jpg', '70.jpg', '72.jpg', '71.jpg', '73.jpg', '79.jpg', '78.jpg', '76.jpg', '75.jpg', '77.jpg', '74.jpg', '80.jpg']\n",
            "6 ['61.jpg', '62.jpg', '63.jpg', '69.jpg', '70.jpg', '71.jpg', '68.jpg', '64.jpg', '67.jpg', '65.jpg', '66.jpg', '72.jpg', '73.jpg', '74.jpg', '75.jpg', '77.jpg', '76.jpg', '79.jpg', '80.jpg', '78.jpg']\n",
            "7 ['61.jpg', '62.jpg', '63.jpg', '65.jpg', '64.jpg', '67.jpg', '66.jpg', '73.jpg', '69.jpg', '68.jpg', '71.jpg', '72.jpg', '70.jpg', '74.jpg', '75.jpg', '77.jpg', '76.jpg', '80.jpg', '78.jpg', '79.jpg']\n",
            "4 ['62.jpg', '61.jpg', '71.jpg', '63.jpg', '65.jpg', '72.jpg', '64.jpg', '66.jpg', '69.jpg', '67.jpg', '70.jpg', '68.jpg', '73.jpg', '75.jpg', '77.jpg', '74.jpg', '76.jpg', '78.jpg', '79.jpg', '80.jpg']\n",
            "5 ['61.jpg', '62.jpg', '63.jpg', '65.jpg', '66.jpg', '67.jpg', '69.jpg', '72.jpg', '70.jpg', '71.jpg', '68.jpg', '73.jpg', '74.jpg', '75.jpg', '77.jpg', '78.jpg', '80.jpg', '79.jpg', '76.jpg', '64.jpg']\n",
            "2 ['61.jpg', '62.jpg', '63.jpg', '69.jpg', '71.jpg', '64.jpg', '67.jpg', '66.jpg', '65.jpg', '68.jpg', '70.jpg', '72.jpg', '73.jpg', '75.jpg', '77.jpg', '74.jpg', '76.jpg', '80.jpg', '78.jpg', '79.jpg']\n",
            "3 ['62.jpg', '61.jpg', '63.jpg', '65.jpg', '67.jpg', '64.jpg', '66.jpg', '71.jpg', '68.jpg', '70.jpg', '69.jpg', '72.jpg', '73.jpg', '75.jpg', '77.jpg', '74.jpg', '80.jpg', '79.jpg', '78.jpg', '76.jpg']\n",
            "0 ['61.jpg', '67.jpg', '69.jpg', '64.jpg', '66.jpg', '65.jpg', '63.jpg', '62.jpg', '68.jpg', '70.jpg', '71.jpg', '73.jpg', '79.jpg', '72.jpg', '80.jpg', '74.jpg', '78.jpg', '77.jpg', '76.jpg', '75.jpg']\n",
            "8 ['63.jpg', '61.jpg', '62.jpg', '65.jpg', '64.jpg', '66.jpg', '67.jpg', '69.jpg', '75.jpg', '68.jpg', '72.jpg', '70.jpg', '73.jpg', '74.jpg', '71.jpg', '76.jpg', '77.jpg', '78.jpg', '79.jpg', '80.jpg']\n",
            "9 ['65.jpg', '64.jpg', '61.jpg', '62.jpg', '63.jpg', '67.jpg', '66.jpg', '68.jpg', '69.jpg', '75.jpg', '72.jpg', '74.jpg', '70.jpg', '73.jpg', '71.jpg', '77.jpg', '76.jpg', '78.jpg', '79.jpg', '80.jpg']\n",
            "200 200\n",
            "(611, 10000)\n"
          ],
          "name": "stdout"
        }
      ]
    },
    {
      "cell_type": "code",
      "metadata": {
        "id": "oCiK7-5DjW9f",
        "colab_type": "code",
        "outputId": "edad6149-8af1-4928-acce-1f3d9b0433a7",
        "colab": {
          "base_uri": "https://localhost:8080/",
          "height": 411
        }
      },
      "source": [
        "\n",
        "\n",
        "import pandas as pd\n",
        "import numpy as np\n",
        "from sklearn.model_selection import train_test_split\n",
        "from sklearn.ensemble import RandomForestClassifier\n",
        "\n",
        "\n",
        "# Create the model with 100 trees\n",
        "model = RandomForestClassifier(n_estimators=100,  \n",
        "                               n_jobs=-1)\n",
        "\n",
        "# Fit on training data\n",
        "model.fit(X_train, Y_train)\n",
        "\n",
        "\n",
        "n_nodes = []\n",
        "max_depths = []\n",
        "\n",
        "# Stats about the trees in random forest\n",
        "for ind_tree in model.estimators_:\n",
        "    n_nodes.append(ind_tree.tree_.node_count)\n",
        "    max_depths.append(ind_tree.tree_.max_depth)\n",
        "    \n",
        "print(f'Average number of nodes {int(np.mean(n_nodes))}')\n",
        "print(f'Average maximum depth {int(np.mean(max_depths))}')\n",
        "\n",
        "\n",
        "# Predictions on testset\n",
        "y_pred_test = rf.predict(X_test)\n",
        "    # test data metrics\n",
        "print(\"Test data metrics:\")\n",
        "print(sklearn.metrics.classification_report(y_true= Y_test, y_pred= y_pred_test))\n",
        "\n"
      ],
      "execution_count": 0,
      "outputs": [
        {
          "output_type": "stream",
          "text": [
            "[Parallel(n_jobs=-1)]: Using backend ThreadingBackend with 2 concurrent workers.\n",
            "[Parallel(n_jobs=-1)]: Done  46 tasks      | elapsed:    0.2s\n"
          ],
          "name": "stderr"
        },
        {
          "output_type": "stream",
          "text": [
            "Average number of nodes 192\n",
            "Average maximum depth 12\n",
            "Test data metrics:\n",
            "              precision    recall  f1-score   support\n",
            "\n",
            "           0       1.00      0.90      0.95        20\n",
            "           1       0.95      1.00      0.98        20\n",
            "           2       0.95      1.00      0.98        20\n",
            "           3       1.00      1.00      1.00        20\n",
            "           4       1.00      1.00      1.00        20\n",
            "           5       1.00      0.25      0.40        20\n",
            "           6       0.57      0.85      0.68        20\n",
            "           7       0.90      0.90      0.90        20\n",
            "           8       0.76      0.95      0.84        20\n",
            "           9       1.00      1.00      1.00        20\n",
            "\n",
            "    accuracy                           0.89       200\n",
            "   macro avg       0.91      0.89      0.87       200\n",
            "weighted avg       0.91      0.89      0.87       200\n",
            "\n"
          ],
          "name": "stdout"
        },
        {
          "output_type": "stream",
          "text": [
            "[Parallel(n_jobs=-1)]: Done 100 out of 100 | elapsed:    0.5s finished\n"
          ],
          "name": "stderr"
        }
      ]
    }
  ]
}