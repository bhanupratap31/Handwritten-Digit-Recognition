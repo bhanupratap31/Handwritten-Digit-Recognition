{
  "nbformat": 4,
  "nbformat_minor": 0,
  "metadata": {
    "colab": {
      "name": "MNIST_RF.ipynb",
      "provenance": [],
      "authorship_tag": "ABX9TyOdq9cZKMmp2D0qYXIBfeT5",
      "include_colab_link": true
    },
    "kernelspec": {
      "name": "python3",
      "display_name": "Python 3"
    }
  },
  "cells": [
    {
      "cell_type": "markdown",
      "metadata": {
        "id": "view-in-github",
        "colab_type": "text"
      },
      "source": [
        "<a href=\"https://colab.research.google.com/github/bhanupratap31/Handwritten-Digit-Recognition/blob/master/MNIST_RF.ipynb\" target=\"_parent\"><img src=\"https://colab.research.google.com/assets/colab-badge.svg\" alt=\"Open In Colab\"/></a>"
      ]
    },
    {
      "cell_type": "code",
      "metadata": {
        "id": "L9EEs0A6bklP",
        "colab_type": "code",
        "outputId": "782fc058-7adb-4f7d-c3a6-84993b070fd2",
        "colab": {
          "base_uri": "https://localhost:8080/",
          "height": 54
        }
      },
      "source": [
        "import matplotlib.pyplot as plt\n",
        "from sklearn.datasets import fetch_openml\n",
        "from sklearn.ensemble import RandomForestClassifier\n",
        "from sklearn.metrics import accuracy_score\n",
        "\n",
        "\n",
        "\n",
        "# Load data from https://www.openml.org/d/554\n",
        "X, y = fetch_openml('mnist_784', version=1, return_X_y=True)\n",
        "X = X / 255.\n",
        "\n",
        "# rescale the data, use the traditional train/test split\n",
        "X_train, X_test = X[:60000], X[60000:]\n",
        "y_train, y_test = y[:60000], y[60000:]\n",
        "\n",
        "clf = RandomForestClassifier(n_estimators=100)\n",
        "                                  \n",
        "\n",
        "clf.fit(X_train, y_train)\n",
        "print(\"Training set score: %f\" % clf.score(X_train, y_train))\n",
        "print(\"Test set score: %f\" % clf.score(X_test, y_test))"
      ],
      "execution_count": 0,
      "outputs": [
        {
          "output_type": "stream",
          "text": [
            "Training set score: 1.000000\n",
            "Test set score: 0.971100\n"
          ],
          "name": "stdout"
        }
      ]
    }
  ]
}